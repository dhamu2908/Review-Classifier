{
  "nbformat": 4,
  "nbformat_minor": 0,
  "metadata": {
    "colab": {
      "provenance": [],
      "authorship_tag": "ABX9TyNiozcu46kvLn7jHLdoX+g4",
      "include_colab_link": true
    },
    "kernelspec": {
      "name": "python3",
      "display_name": "Python 3"
    },
    "language_info": {
      "name": "python"
    }
  },
  "cells": [
    {
      "cell_type": "markdown",
      "metadata": {
        "id": "view-in-github",
        "colab_type": "text"
      },
      "source": [
        "<a href=\"https://colab.research.google.com/github/dhamu2908/Review-Classifier/blob/main/Review_NaiveBayes.ipynb\" target=\"_parent\"><img src=\"https://colab.research.google.com/assets/colab-badge.svg\" alt=\"Open In Colab\"/></a>"
      ]
    },
    {
      "cell_type": "code",
      "execution_count": 395,
      "metadata": {
        "id": "9iIDd8lDUH44"
      },
      "outputs": [],
      "source": [
        "import pandas as pd\n",
        "import numpy as np\n",
        "import csv\n",
        "import re\n",
        "import torch\n",
        "import math\n",
        "from collections import defaultdict\n",
        "import seaborn as sns"
      ]
    },
    {
      "cell_type": "code",
      "source": [
        "pd.options.mode.chained_assignment=None"
      ],
      "metadata": {
        "id": "hKWafHRgLsqh"
      },
      "execution_count": 396,
      "outputs": []
    },
    {
      "cell_type": "code",
      "source": [
        "df=pd.read_csv(\"zomato_reviews.csv\")"
      ],
      "metadata": {
        "id": "Ttc-B2LML7JZ"
      },
      "execution_count": 397,
      "outputs": []
    },
    {
      "cell_type": "code",
      "source": [
        "print(df.head())"
      ],
      "metadata": {
        "colab": {
          "base_uri": "https://localhost:8080/"
        },
        "id": "FdhRue1CMON8",
        "outputId": "e21f851d-ba4a-4f5a-9c3f-4d2c4d5b3550"
      },
      "execution_count": 398,
      "outputs": [
        {
          "output_type": "stream",
          "name": "stdout",
          "text": [
            "   Unnamed: 0  rating                                             review\n",
            "0           0       5                                               nice\n",
            "1           1       5  best biryani , so supportive staff of outlet ,...\n",
            "2           2       4     delivery boy was very decent and supportive.👌👍\n",
            "3           3       1  worst biryani i have tasted in my life, half o...\n",
            "4           4       5  all food is good and tasty . will order again ...\n"
          ]
        }
      ]
    },
    {
      "cell_type": "code",
      "source": [
        "df1=df[['rating','review']]"
      ],
      "metadata": {
        "id": "ItWFfrdrMERk"
      },
      "execution_count": 399,
      "outputs": []
    },
    {
      "cell_type": "code",
      "source": [
        "print(df1.head())"
      ],
      "metadata": {
        "colab": {
          "base_uri": "https://localhost:8080/"
        },
        "id": "LMVNX-b_MEap",
        "outputId": "d06d8913-39ff-4ae3-a334-416e31918fcb"
      },
      "execution_count": 400,
      "outputs": [
        {
          "output_type": "stream",
          "name": "stdout",
          "text": [
            "   rating                                             review\n",
            "0       5                                               nice\n",
            "1       5  best biryani , so supportive staff of outlet ,...\n",
            "2       4     delivery boy was very decent and supportive.👌👍\n",
            "3       1  worst biryani i have tasted in my life, half o...\n",
            "4       5  all food is good and tasty . will order again ...\n"
          ]
        }
      ]
    },
    {
      "cell_type": "code",
      "source": [
        "df1.replace({1:'bad',2:'okay',3:'okay',4:'good',5:'good'},inplace=True)"
      ],
      "metadata": {
        "id": "c28lwWH_MEgY"
      },
      "execution_count": 401,
      "outputs": []
    },
    {
      "cell_type": "code",
      "source": [
        "print(df1.head())"
      ],
      "metadata": {
        "colab": {
          "base_uri": "https://localhost:8080/"
        },
        "id": "Kynke3aHNSt1",
        "outputId": "0614d711-356b-479b-9f87-61910d5e4955"
      },
      "execution_count": 402,
      "outputs": [
        {
          "output_type": "stream",
          "name": "stdout",
          "text": [
            "  rating                                             review\n",
            "0   good                                               nice\n",
            "1   good  best biryani , so supportive staff of outlet ,...\n",
            "2   good     delivery boy was very decent and supportive.👌👍\n",
            "3    bad  worst biryani i have tasted in my life, half o...\n",
            "4   good  all food is good and tasty . will order again ...\n"
          ]
        }
      ]
    },
    {
      "cell_type": "code",
      "source": [
        "df1['rating'].value_counts()"
      ],
      "metadata": {
        "colab": {
          "base_uri": "https://localhost:8080/",
          "height": 209
        },
        "id": "lORYp4xCMEjO",
        "outputId": "c37f2870-be11-4af7-9f39-bf47f2dbb2df"
      },
      "execution_count": 403,
      "outputs": [
        {
          "output_type": "execute_result",
          "data": {
            "text/plain": [
              "rating\n",
              "good    2746\n",
              "bad     1891\n",
              "okay     842\n",
              "Name: count, dtype: int64"
            ],
            "text/html": [
              "<div>\n",
              "<style scoped>\n",
              "    .dataframe tbody tr th:only-of-type {\n",
              "        vertical-align: middle;\n",
              "    }\n",
              "\n",
              "    .dataframe tbody tr th {\n",
              "        vertical-align: top;\n",
              "    }\n",
              "\n",
              "    .dataframe thead th {\n",
              "        text-align: right;\n",
              "    }\n",
              "</style>\n",
              "<table border=\"1\" class=\"dataframe\">\n",
              "  <thead>\n",
              "    <tr style=\"text-align: right;\">\n",
              "      <th></th>\n",
              "      <th>count</th>\n",
              "    </tr>\n",
              "    <tr>\n",
              "      <th>rating</th>\n",
              "      <th></th>\n",
              "    </tr>\n",
              "  </thead>\n",
              "  <tbody>\n",
              "    <tr>\n",
              "      <th>good</th>\n",
              "      <td>2746</td>\n",
              "    </tr>\n",
              "    <tr>\n",
              "      <th>bad</th>\n",
              "      <td>1891</td>\n",
              "    </tr>\n",
              "    <tr>\n",
              "      <th>okay</th>\n",
              "      <td>842</td>\n",
              "    </tr>\n",
              "  </tbody>\n",
              "</table>\n",
              "</div><br><label><b>dtype:</b> int64</label>"
            ]
          },
          "metadata": {},
          "execution_count": 403
        }
      ]
    },
    {
      "cell_type": "code",
      "source": [
        "df1.isnull().sum()"
      ],
      "metadata": {
        "colab": {
          "base_uri": "https://localhost:8080/",
          "height": 147
        },
        "id": "6qlgcgN6NJPe",
        "outputId": "b80ceafb-29a2-4602-8e71-b6ecfc19c482"
      },
      "execution_count": 404,
      "outputs": [
        {
          "output_type": "execute_result",
          "data": {
            "text/plain": [
              "rating    0\n",
              "review    1\n",
              "dtype: int64"
            ],
            "text/html": [
              "<div>\n",
              "<style scoped>\n",
              "    .dataframe tbody tr th:only-of-type {\n",
              "        vertical-align: middle;\n",
              "    }\n",
              "\n",
              "    .dataframe tbody tr th {\n",
              "        vertical-align: top;\n",
              "    }\n",
              "\n",
              "    .dataframe thead th {\n",
              "        text-align: right;\n",
              "    }\n",
              "</style>\n",
              "<table border=\"1\" class=\"dataframe\">\n",
              "  <thead>\n",
              "    <tr style=\"text-align: right;\">\n",
              "      <th></th>\n",
              "      <th>0</th>\n",
              "    </tr>\n",
              "  </thead>\n",
              "  <tbody>\n",
              "    <tr>\n",
              "      <th>rating</th>\n",
              "      <td>0</td>\n",
              "    </tr>\n",
              "    <tr>\n",
              "      <th>review</th>\n",
              "      <td>1</td>\n",
              "    </tr>\n",
              "  </tbody>\n",
              "</table>\n",
              "</div><br><label><b>dtype:</b> int64</label>"
            ]
          },
          "metadata": {},
          "execution_count": 404
        }
      ]
    },
    {
      "cell_type": "code",
      "source": [
        "df1['review'].fillna(2,inplace=True)\n",
        "df1['rating'].str.replace(r'[^a-zA-Z\\s]','',regex=True)"
      ],
      "metadata": {
        "colab": {
          "base_uri": "https://localhost:8080/",
          "height": 600
        },
        "id": "bv_PZKYXNJR-",
        "outputId": "ff8f06b2-eb4a-4576-ad9a-521cc24531c4"
      },
      "execution_count": 405,
      "outputs": [
        {
          "output_type": "stream",
          "name": "stderr",
          "text": [
            "<ipython-input-405-ecda378d84e1>:1: FutureWarning: A value is trying to be set on a copy of a DataFrame or Series through chained assignment using an inplace method.\n",
            "The behavior will change in pandas 3.0. This inplace method will never work because the intermediate object on which we are setting values always behaves as a copy.\n",
            "\n",
            "For example, when doing 'df[col].method(value, inplace=True)', try using 'df.method({col: value}, inplace=True)' or df[col] = df[col].method(value) instead, to perform the operation inplace on the original object.\n",
            "\n",
            "\n",
            "  df1['review'].fillna(2,inplace=True)\n"
          ]
        },
        {
          "output_type": "execute_result",
          "data": {
            "text/plain": [
              "0       good\n",
              "1       good\n",
              "2       good\n",
              "3        bad\n",
              "4       good\n",
              "        ... \n",
              "5474    good\n",
              "5475    good\n",
              "5476    good\n",
              "5477     bad\n",
              "5478     bad\n",
              "Name: rating, Length: 5479, dtype: object"
            ],
            "text/html": [
              "<div>\n",
              "<style scoped>\n",
              "    .dataframe tbody tr th:only-of-type {\n",
              "        vertical-align: middle;\n",
              "    }\n",
              "\n",
              "    .dataframe tbody tr th {\n",
              "        vertical-align: top;\n",
              "    }\n",
              "\n",
              "    .dataframe thead th {\n",
              "        text-align: right;\n",
              "    }\n",
              "</style>\n",
              "<table border=\"1\" class=\"dataframe\">\n",
              "  <thead>\n",
              "    <tr style=\"text-align: right;\">\n",
              "      <th></th>\n",
              "      <th>rating</th>\n",
              "    </tr>\n",
              "  </thead>\n",
              "  <tbody>\n",
              "    <tr>\n",
              "      <th>0</th>\n",
              "      <td>good</td>\n",
              "    </tr>\n",
              "    <tr>\n",
              "      <th>1</th>\n",
              "      <td>good</td>\n",
              "    </tr>\n",
              "    <tr>\n",
              "      <th>2</th>\n",
              "      <td>good</td>\n",
              "    </tr>\n",
              "    <tr>\n",
              "      <th>3</th>\n",
              "      <td>bad</td>\n",
              "    </tr>\n",
              "    <tr>\n",
              "      <th>4</th>\n",
              "      <td>good</td>\n",
              "    </tr>\n",
              "    <tr>\n",
              "      <th>...</th>\n",
              "      <td>...</td>\n",
              "    </tr>\n",
              "    <tr>\n",
              "      <th>5474</th>\n",
              "      <td>good</td>\n",
              "    </tr>\n",
              "    <tr>\n",
              "      <th>5475</th>\n",
              "      <td>good</td>\n",
              "    </tr>\n",
              "    <tr>\n",
              "      <th>5476</th>\n",
              "      <td>good</td>\n",
              "    </tr>\n",
              "    <tr>\n",
              "      <th>5477</th>\n",
              "      <td>bad</td>\n",
              "    </tr>\n",
              "    <tr>\n",
              "      <th>5478</th>\n",
              "      <td>bad</td>\n",
              "    </tr>\n",
              "  </tbody>\n",
              "</table>\n",
              "<p>5479 rows × 1 columns</p>\n",
              "</div><br><label><b>dtype:</b> object</label>"
            ]
          },
          "metadata": {},
          "execution_count": 405
        }
      ]
    },
    {
      "cell_type": "code",
      "source": [
        "print(df1.head)"
      ],
      "metadata": {
        "colab": {
          "base_uri": "https://localhost:8080/"
        },
        "id": "zxpLe8pnNJUo",
        "outputId": "e2962da2-65e2-4edf-c1c2-d34bf71ac7b6"
      },
      "execution_count": 406,
      "outputs": [
        {
          "output_type": "stream",
          "name": "stdout",
          "text": [
            "<bound method NDFrame.head of      rating                                             review\n",
            "0      good                                               nice\n",
            "1      good  best biryani , so supportive staff of outlet ,...\n",
            "2      good     delivery boy was very decent and supportive.👌👍\n",
            "3       bad  worst biryani i have tasted in my life, half o...\n",
            "4      good  all food is good and tasty . will order again ...\n",
            "...     ...                                                ...\n",
            "5474   good                                           complain\n",
            "5475   good  it took 1 hour to assign valvet and thn prepar...\n",
            "5476   good  took for an hour to prepare 3 khawsa, which in...\n",
            "5477    bad  very very late, littrally did time pass and it...\n",
            "5478    bad  Taste was stale and they give only 5 pieces in...\n",
            "\n",
            "[5479 rows x 2 columns]>\n"
          ]
        }
      ]
    },
    {
      "cell_type": "code",
      "source": [
        "df1.isnull().sum()"
      ],
      "metadata": {
        "colab": {
          "base_uri": "https://localhost:8080/",
          "height": 147
        },
        "id": "tDCop7N3NJXN",
        "outputId": "7d4f14e7-9c4a-4132-8b89-0af3b618a226"
      },
      "execution_count": 407,
      "outputs": [
        {
          "output_type": "execute_result",
          "data": {
            "text/plain": [
              "rating    0\n",
              "review    0\n",
              "dtype: int64"
            ],
            "text/html": [
              "<div>\n",
              "<style scoped>\n",
              "    .dataframe tbody tr th:only-of-type {\n",
              "        vertical-align: middle;\n",
              "    }\n",
              "\n",
              "    .dataframe tbody tr th {\n",
              "        vertical-align: top;\n",
              "    }\n",
              "\n",
              "    .dataframe thead th {\n",
              "        text-align: right;\n",
              "    }\n",
              "</style>\n",
              "<table border=\"1\" class=\"dataframe\">\n",
              "  <thead>\n",
              "    <tr style=\"text-align: right;\">\n",
              "      <th></th>\n",
              "      <th>0</th>\n",
              "    </tr>\n",
              "  </thead>\n",
              "  <tbody>\n",
              "    <tr>\n",
              "      <th>rating</th>\n",
              "      <td>0</td>\n",
              "    </tr>\n",
              "    <tr>\n",
              "      <th>review</th>\n",
              "      <td>0</td>\n",
              "    </tr>\n",
              "  </tbody>\n",
              "</table>\n",
              "</div><br><label><b>dtype:</b> int64</label>"
            ]
          },
          "metadata": {},
          "execution_count": 407
        }
      ]
    },
    {
      "cell_type": "code",
      "source": [
        "train_size = int(0.8 * len(df1))\n",
        "val_size = int(0.9 * len(df1))\n",
        "\n",
        "X_train = df1.iloc[:train_size][\"review\"]\n",
        "y_train = df1.iloc[:train_size][\"rating\"]\n",
        "\n",
        "X_val = df1.iloc[train_size:val_size][\"review\"]\n",
        "y_val = df1.iloc[train_size:val_size][\"rating\"]\n",
        "\n",
        "X_test = df1.iloc[val_size:][\"review\"]\n",
        "y_test = df1.iloc[val_size:][\"rating\"]"
      ],
      "metadata": {
        "id": "vsFKTo12NJaz"
      },
      "execution_count": 408,
      "outputs": []
    },
    {
      "cell_type": "code",
      "source": [
        "print(X_train.shape)\n",
        "print(y_train.shape)\n",
        "print(X_val.shape)\n",
        "print(y_val.shape)\n",
        "print(X_test.shape)\n",
        "print(y_test.shape)\n",
        "print(X_train)"
      ],
      "metadata": {
        "colab": {
          "base_uri": "https://localhost:8080/"
        },
        "id": "T7cmqsNCPUbR",
        "outputId": "ec5f58dd-f048-4f9f-cb84-d31d6d09f355"
      },
      "execution_count": 409,
      "outputs": [
        {
          "output_type": "stream",
          "name": "stdout",
          "text": [
            "(4383,)\n",
            "(4383,)\n",
            "(548,)\n",
            "(548,)\n",
            "(548,)\n",
            "(548,)\n",
            "0                                                    nice\n",
            "1       best biryani , so supportive staff of outlet ,...\n",
            "2          delivery boy was very decent and supportive.👌👍\n",
            "3       worst biryani i have tasted in my life, half o...\n",
            "4       all food is good and tasty . will order again ...\n",
            "                              ...                        \n",
            "4378                               Not recommended to eat\n",
            "4379                  fantastic and testy good for me to.\n",
            "4380            quantity is too too less ,refund required\n",
            "4381                   it's not shorba. it's mutton curry\n",
            "4382    the restaurant should have tandoori roti.. as ...\n",
            "Name: review, Length: 4383, dtype: object\n"
          ]
        }
      ]
    },
    {
      "cell_type": "code",
      "source": [
        "dict=defaultdict(int)\n",
        "for i in X_train:\n",
        "  #print(i)\n",
        "  try:\n",
        "    words=i.split()\n",
        "    for word in words:\n",
        "      dict[word]+=1\n",
        "  except:\n",
        "    pass"
      ],
      "metadata": {
        "id": "NKzXWSoePUd4"
      },
      "execution_count": 410,
      "outputs": []
    },
    {
      "cell_type": "code",
      "source": [
        "\"\"\"for i in dict:\n",
        "  print(i,end=\" : \")\n",
        "  print(dict[i])\"\"\"\n",
        "print(len(dict))"
      ],
      "metadata": {
        "colab": {
          "base_uri": "https://localhost:8080/"
        },
        "id": "xxY_MmioPUgs",
        "outputId": "1297aa57-835b-4d24-bde9-a703351d2cda"
      },
      "execution_count": 411,
      "outputs": [
        {
          "output_type": "stream",
          "name": "stdout",
          "text": [
            "7425\n"
          ]
        }
      ]
    },
    {
      "cell_type": "code",
      "source": [
        "good_prob=defaultdict(int)\n",
        "bad_prob=defaultdict(int)\n",
        "okay_prob=defaultdict(int)\n",
        "good=0\n",
        "bad=0\n",
        "okay=0\n",
        "alpha=1"
      ],
      "metadata": {
        "id": "BU1YhG_gTWIy"
      },
      "execution_count": 412,
      "outputs": []
    },
    {
      "cell_type": "code",
      "source": [
        "for i in range(len(X_train)):\n",
        "  #print(X_train[i])\n",
        "  try:\n",
        "    words=X_train[i].split()\n",
        "    for word in words:\n",
        "      if word not in good_prob:\n",
        "        good_prob[word]+=alpha\n",
        "      if word not in bad_prob:\n",
        "        good_prob[word]+=alpha\n",
        "      if word not in okay_prob:\n",
        "        good_prob[word]+=alpha\n",
        "\n",
        "      if y_train[i]=='good':\n",
        "        good_prob[word]+=1\n",
        "        pos+=1\n",
        "      elif y_train[i]=='bad':\n",
        "        bad_prob[word]+=1\n",
        "        bad+=1\n",
        "      else:\n",
        "        okay_prob[word]+=1\n",
        "        okay+=1\n",
        "  except:\n",
        "    pass"
      ],
      "metadata": {
        "id": "ZUDjGZu_TWps"
      },
      "execution_count": 413,
      "outputs": []
    },
    {
      "cell_type": "code",
      "source": [
        "good_prob={key:val/(good+alpha) for key,val in dict.items()}\n",
        "bad_prob={key:val/(bad+alpha) for key,val in dict.items()}\n",
        "okay_prob={key:val/(okay+alpha) for key,val in dict.items()}"
      ],
      "metadata": {
        "id": "YUM2w8teTWr_"
      },
      "execution_count": 414,
      "outputs": []
    },
    {
      "cell_type": "code",
      "source": [
        "y_pred=[]\n",
        "c=0\n",
        "for i in X_train:\n",
        "  try:\n",
        "    words=i.split()\n",
        "    c+=1\n",
        "    g=b=o=1\n",
        "    for word in words:\n",
        "      g*=good_prob[word]\n",
        "      b*=good_prob[word]\n",
        "      o*=good_prob[word]\n",
        "    if (max(g,b,o))==g:\n",
        "      res=\"good\"\n",
        "    elif (max(g,b,o))==b:\n",
        "      res=\"bad\"\n",
        "    else:\n",
        "      res=\"okay\"\n",
        "    y_pred.append(res)\n",
        "  except:\n",
        "    y_pred.append(\"good\")\n",
        "count=0\n",
        "print(len(y_pred))\n",
        "print(len(y_train))\n",
        "for i in range(len(y_train)):\n",
        "  if y_train[i]==y_pred[i]:\n",
        "    count+=1\n",
        "Accuracy=count/len(y_train)\n",
        "print(Accuracy*100)"
      ],
      "metadata": {
        "colab": {
          "base_uri": "https://localhost:8080/"
        },
        "id": "6jJpfhp8TWuj",
        "outputId": "b7fc30b6-6251-49fe-e218-3a88b95f2746"
      },
      "execution_count": 415,
      "outputs": [
        {
          "output_type": "stream",
          "name": "stdout",
          "text": [
            "4383\n",
            "4383\n",
            "46.634725074150126\n"
          ]
        }
      ]
    },
    {
      "cell_type": "code",
      "source": [],
      "metadata": {
        "id": "0_EweiesTWw1"
      },
      "execution_count": 415,
      "outputs": []
    },
    {
      "cell_type": "code",
      "source": [],
      "metadata": {
        "id": "TDz8t1ADTW0T"
      },
      "execution_count": 415,
      "outputs": []
    },
    {
      "cell_type": "code",
      "source": [],
      "metadata": {
        "id": "P3Qrr006TLPM"
      },
      "execution_count": 415,
      "outputs": []
    },
    {
      "cell_type": "code",
      "source": [],
      "metadata": {
        "id": "TA2RhP6XTLRk"
      },
      "execution_count": 415,
      "outputs": []
    },
    {
      "cell_type": "code",
      "source": [],
      "metadata": {
        "id": "2577baC4TLUX"
      },
      "execution_count": 415,
      "outputs": []
    },
    {
      "cell_type": "code",
      "source": [],
      "metadata": {
        "id": "ouaruXyZTLW5"
      },
      "execution_count": 415,
      "outputs": []
    },
    {
      "cell_type": "code",
      "source": [],
      "metadata": {
        "id": "0yVtmK__TLZh"
      },
      "execution_count": 415,
      "outputs": []
    },
    {
      "cell_type": "code",
      "source": [],
      "metadata": {
        "id": "sklDafiqTLc7"
      },
      "execution_count": 415,
      "outputs": []
    },
    {
      "cell_type": "code",
      "source": [],
      "metadata": {
        "id": "SMwRdhySPUjK"
      },
      "execution_count": 415,
      "outputs": []
    },
    {
      "cell_type": "code",
      "source": [],
      "metadata": {
        "id": "VQ4T_LCtPUlh"
      },
      "execution_count": 415,
      "outputs": []
    },
    {
      "cell_type": "code",
      "source": [],
      "metadata": {
        "id": "a9-KZ8ROPUo_"
      },
      "execution_count": 415,
      "outputs": []
    }
  ]
}
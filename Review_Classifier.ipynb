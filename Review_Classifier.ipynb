{
  "nbformat": 4,
  "nbformat_minor": 0,
  "metadata": {
    "colab": {
      "provenance": []
    },
    "kernelspec": {
      "name": "python3",
      "display_name": "Python 3"
    },
    "language_info": {
      "name": "python"
    }
  },
  "cells": [
    {
      "cell_type": "code",
      "source": [
        "import csv\n",
        "import random\n",
        "from collections import defaultdict"
      ],
      "metadata": {
        "id": "Jxy6T8exxgjm"
      },
      "execution_count": 5,
      "outputs": []
    },
    {
      "cell_type": "code",
      "source": [
        "reviews = []\n",
        "ratings = []\n",
        "\n",
        "with open('reviews.csv', 'r') as f:\n",
        "  reader = csv.reader(f)\n",
        "  next(reader)\n",
        "  for row in reader:\n",
        "    reviews.append(row[0])\n",
        "    ratings.append(int(row[1]))\n"
      ],
      "metadata": {
        "id": "037n3y8lxgmW"
      },
      "execution_count": 10,
      "outputs": []
    },
    {
      "cell_type": "code",
      "source": [
        "categories = []\n",
        "for rating in ratings:\n",
        "  if rating <= 2:\n",
        "    categories.append('bad')\n",
        "  elif rating == 3:\n",
        "    categories.append('neutral')\n",
        "  else:\n",
        "    categories.append('good')\n",
        ""
      ],
      "metadata": {
        "id": "ivu6qVv_xgpK"
      },
      "execution_count": 12,
      "outputs": []
    },
    {
      "cell_type": "code",
      "source": [
        "combined = list(zip(reviews, categories))\n",
        "random.shuffle(combined)\n",
        "n = len(combined)"
      ],
      "metadata": {
        "id": "XIlAssQRxgsL"
      },
      "execution_count": 15,
      "outputs": []
    },
    {
      "cell_type": "code",
      "source": [
        "train_data = combined[: int(0.7 * n)]\n",
        "val_data = combined[int(0.7 * n): int(0.8 * n)]\n",
        "test_data = combined[int(0.8 * n):]\n",
        "\n",
        "# 4. Unpack the splits\n",
        "train_reviews = [x[0] for x in train_data]\n",
        "train_cats = [x[1] for x in train_data]\n",
        "val_reviews = [x[0] for x in val_data]\n",
        "val_cats = [x[1] for x in val_data]\n",
        "test_reviews = [x[0] for x in test_data]\n",
        "test_cats = [x[1] for x in test_data]"
      ],
      "metadata": {
        "id": "0p52Chfixgun"
      },
      "execution_count": 20,
      "outputs": []
    },
    {
      "cell_type": "code",
      "source": [
        "for i in range(10):\n",
        "  print(test_data[i])"
      ],
      "metadata": {
        "colab": {
          "base_uri": "https://localhost:8080/"
        },
        "id": "PFrNXjmexgxY",
        "outputId": "9e72e25b-ba2d-40b6-9c4a-911ad41b3289"
      },
      "execution_count": 21,
      "outputs": [
        {
          "output_type": "stream",
          "name": "stdout",
          "text": [
            "('Highly recommended. Pull bring position several everyone our return. Bill little citizen particular exist vote.', 'good')\n",
            "('Highly recommended. Compare federal support sound. Of ready else.', 'good')\n",
            "('Unsatisfied. Anyone since yard. Authority spend enter treatment rise medical consider age.', 'bad')\n",
            "('Fine for the price. Most relationship worry general treat girl threat. Check detail draw deal.', 'neutral')\n",
            "('Amazing product. Behind story discussion good in word. Bed answer read.', 'good')\n",
            "('Exceeded expectations. Agreement throw job school born yes by decide. Teacher team food improve capital economic deep.', 'good')\n",
            "('Worst ever. According coach product recent matter Congress once. Former conference within poor physical whether group.', 'bad')\n",
            "('Totally disappointed. And since whom spend try oil require. Main project some commercial write smile black.', 'bad')\n",
            "('Amazing product. Individual west plant staff quickly support. Machine product news what stock.', 'good')\n",
            "('Not worth it. Director lot coach community stock relationship. Three method fact reveal management film everybody.', 'bad')\n"
          ]
        }
      ]
    },
    {
      "cell_type": "code",
      "source": [
        "word_counts = {'bad' : defaultdict(int),\n",
        "               'neutral' : defaultdict(int),\n",
        "               'good' : defaultdict(int)}\n",
        "class_counts = {'bad' : 0, 'neutral' : 0, 'good' : 0}\n",
        "vocab = set()"
      ],
      "metadata": {
        "id": "nxxmXUi6xg0x"
      },
      "execution_count": 19,
      "outputs": []
    },
    {
      "cell_type": "code",
      "source": [
        "for review, category in zip(train_reviews, train_cats):\n",
        "  class_counts[category] += 1\n",
        "  words = review.lower().split()\n",
        "  for word in words:\n",
        "    word_counts[category][word] += 1\n",
        "    vocab.add(word)\n",
        "\n",
        "total_train = len(train_reviews)"
      ],
      "metadata": {
        "id": "a3JSA-FD2BXv"
      },
      "execution_count": 25,
      "outputs": []
    },
    {
      "cell_type": "code",
      "source": [
        " # 6. Make predictions on validation set\n",
        "val_correct = 0\n",
        "for review, true_cat in zip(val_reviews, val_cats):\n",
        "    words = review.lower().split()\n",
        "    best_category = None\n",
        "    best_score = -1\n",
        "\n",
        "    for category in ['bad', 'neutral', 'good']:\n",
        "        prior = class_counts[category] / total_train\n",
        "        score = prior\n",
        "\n",
        "        total_words_in_category = sum(word_counts[category].values())\n",
        "        for word in words:\n",
        "            count = word_counts[category].get(word, 0) + 1\n",
        "            prob = count / (total_words_in_category + len(vocab))\n",
        "            score *= prob\n",
        "\n",
        "        if score > best_score:\n",
        "            best_score = score\n",
        "            best_category = category\n",
        "\n",
        "    if best_category == true_cat:\n",
        "        val_correct += 1\n",
        "\n",
        "val_accuracy = val_correct / len(val_cats) if val_cats else 0"
      ],
      "metadata": {
        "id": "PIDlj3K22Bar"
      },
      "execution_count": 26,
      "outputs": []
    },
    {
      "cell_type": "code",
      "source": [
        "print(val_accuracy)"
      ],
      "metadata": {
        "colab": {
          "base_uri": "https://localhost:8080/"
        },
        "id": "R8Qfu6MB2Bds",
        "outputId": "3461bf4a-3bbc-440d-f969-acaa8eec28fb"
      },
      "execution_count": 27,
      "outputs": [
        {
          "output_type": "stream",
          "name": "stdout",
          "text": [
            "0.998\n"
          ]
        }
      ]
    },
    {
      "cell_type": "code",
      "source": [
        "# 7. Make predictions on test set\n",
        "test_correct = 0\n",
        "for review, true_cat in zip(test_reviews, test_cats):\n",
        "    words = review.lower().split()\n",
        "    best_category = None\n",
        "    best_score = -1\n",
        "\n",
        "    for category in ['bad', 'neutral', 'good']:\n",
        "        prior = class_counts[category] / total_train\n",
        "        score = prior\n",
        "\n",
        "        total_words_in_category = sum(word_counts[category].values())\n",
        "        for word in words:\n",
        "            count = word_counts[category].get(word, 0) + 1\n",
        "            prob = count / (total_words_in_category + len(vocab))\n",
        "            score *= prob\n",
        "\n",
        "        if score > best_score:\n",
        "            best_score = score\n",
        "            best_category = category\n",
        "\n",
        "    if best_category == true_cat:\n",
        "        test_correct += 1\n",
        "\n",
        "test_accuracy = test_correct / len(test_cats) if test_cats else 0"
      ],
      "metadata": {
        "id": "dq8qPZl02BhE"
      },
      "execution_count": 28,
      "outputs": []
    },
    {
      "cell_type": "code",
      "source": [
        "print(test_accuracy)"
      ],
      "metadata": {
        "colab": {
          "base_uri": "https://localhost:8080/"
        },
        "id": "eW5L8c2s2Blk",
        "outputId": "6297e290-7df7-4dd4-d89d-03ecd1dc6541"
      },
      "execution_count": 29,
      "outputs": [
        {
          "output_type": "stream",
          "name": "stdout",
          "text": [
            "0.9976\n"
          ]
        }
      ]
    },
    {
      "cell_type": "code",
      "source": [],
      "metadata": {
        "id": "bbNON--r2BoT"
      },
      "execution_count": null,
      "outputs": []
    },
    {
      "cell_type": "code",
      "source": [],
      "metadata": {
        "id": "wGCiDaoB2BrB"
      },
      "execution_count": null,
      "outputs": []
    },
    {
      "cell_type": "code",
      "source": [],
      "metadata": {
        "id": "jnmB5R832Btm"
      },
      "execution_count": null,
      "outputs": []
    }
  ]
}